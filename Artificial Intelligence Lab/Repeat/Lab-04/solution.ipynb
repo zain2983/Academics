{
  "nbformat": 4,
  "nbformat_minor": 0,
  "metadata": {
    "colab": {
      "provenance": []
    },
    "kernelspec": {
      "name": "python3",
      "display_name": "Python 3"
    },
    "language_info": {
      "name": "python"
    }
  },
  "cells": [
    {
      "cell_type": "markdown",
      "source": [
        "# Part 1"
      ],
      "metadata": {
        "id": "bwHcfA0TjWM6"
      }
    },
    {
      "cell_type": "code",
      "execution_count": null,
      "metadata": {
        "id": "iCGZEuOJhNmU"
      },
      "outputs": [],
      "source": [
        "from collections import deque\n",
        "\n",
        "def input_data(filename):\n",
        "    \"\"\"Reads the cube from a text file and returns a 2D array.\"\"\"\n",
        "    cube = []\n",
        "    with open(filename, 'r') as file:\n",
        "        for line in file:\n",
        "            # Parse each line and convert to list of integers (0 for open space, 1 for wall)\n",
        "            row = line.strip().split()\n",
        "            row = [1 if cell == '1' else 0 for cell in row]\n",
        "            cube.append(row)\n",
        "    return cube\n",
        "\n",
        "def get_neighbors(pos, n, m):\n",
        "    \"\"\"Returns a list of valid neighboring positions.\"\"\"\n",
        "    x, y = pos\n",
        "    directions = [(0, 1), (1, 0), (0, -1), (-1, 0)]\n",
        "    neighbors = []\n",
        "    for dx, dy in directions:\n",
        "        nx, ny = x + dx, y + dy\n",
        "        if 0 <= nx < n and 0 <= ny < m:\n",
        "            neighbors.append((nx, ny))\n",
        "    return neighbors\n",
        "\n",
        "def dfs(cube):\n",
        "    \"\"\"Performs a DFS to find a path from (0, 0) to (n-1, m-1).\"\"\"\n",
        "    n, m = len(cube), len(cube[0])\n",
        "    start = (0, 0)\n",
        "    goal = (n - 1, m - 1)\n",
        "    stack = [(start, [start])]\n",
        "    visited = set()\n",
        "\n",
        "    while stack:\n",
        "        (x, y), path = stack.pop()\n",
        "        if (x, y) == goal:\n",
        "            return path\n",
        "        if (x, y) in visited:\n",
        "            continue\n",
        "        visited.add((x, y))\n",
        "\n",
        "        for nx, ny in get_neighbors((x, y), n, m):\n",
        "            if cube[nx][ny] == 0 and (nx, ny) not in visited:  # Open space and not visited\n",
        "                stack.append(((nx, ny), path + [(nx, ny)]))\n",
        "\n",
        "    return -1\n",
        "\n",
        "def bfs(cube):\n",
        "    \"\"\"Performs a BFS to find a path from (0, 0) to (n-1, m-1).\"\"\"\n",
        "    n, m = len(cube), len(cube[0])\n",
        "    start = (0, 0)\n",
        "    goal = (n - 1, m - 1)\n",
        "    queue = deque([(start, [start])])\n",
        "    visited = set([start])\n",
        "\n",
        "    while queue:\n",
        "        (x, y), path = queue.popleft()\n",
        "        if (x, y) == goal:\n",
        "            return path\n",
        "\n",
        "        for nx, ny in get_neighbors((x, y), n, m):\n",
        "            if cube[nx][ny] == 0 and (nx, ny) not in visited:  # Open space and not visited\n",
        "                visited.add((nx, ny))\n",
        "                queue.append(((nx, ny), path + [(nx, ny)]))\n",
        "\n",
        "    return -1"
      ]
    },
    {
      "cell_type": "code",
      "source": [
        "filename = 'cube.txt'\n",
        "cube = read_cube(filename)\n",
        "print(\"DFS Path:\", dfs(cube))\n",
        "print(\"BFS Path:\", bfs(cube))"
      ],
      "metadata": {
        "id": "t2JjkEp_h6HG"
      },
      "execution_count": null,
      "outputs": []
    },
    {
      "cell_type": "markdown",
      "source": [
        "# Part 2"
      ],
      "metadata": {
        "id": "un0YgI7JjYh2"
      }
    },
    {
      "cell_type": "code",
      "source": [
        "import heapq\n",
        "\n",
        "def input_data(filename):\n",
        "    \"\"\"Reads the cube from a text file and returns a 2D array.\"\"\"\n",
        "    cube = []\n",
        "    with open(filename, 'r') as file:\n",
        "        for line in file:\n",
        "            # Parse each line and convert to list of integers (0, 1, 2)\n",
        "            row = line.strip().split()\n",
        "            row = [int(cell) if cell in {'0', '1', '2'} else 0 for cell in row]\n",
        "            cube.append(row)\n",
        "    return cube\n",
        "\n",
        "def get_neighbors(pos, n, m):\n",
        "    \"\"\"Returns a list of valid neighboring positions.\"\"\"\n",
        "    x, y = pos\n",
        "    directions = [(0, 1), (1, 0), (0, -1), (-1, 0)]  # right, down, left, up\n",
        "    neighbors = []\n",
        "    for dx, dy in directions:\n",
        "        nx, ny = x + dx, y + dy\n",
        "        if 0 <= nx < n and 0 <= ny < m:\n",
        "            neighbors.append((nx, ny))\n",
        "    return neighbors\n",
        "\n",
        "def heuristic(a, b):\n",
        "    \"\"\"Manhattan distance heuristic for A*.\"\"\"\n",
        "    return abs(a[0] - b[0]) + abs(a[1] - b[1])\n",
        "\n",
        "def a_star(cube):\n",
        "    \"\"\"Performs A* search to find a path from (0, 0) to (n-1, m-1).\"\"\"\n",
        "    n, m = len(cube), len(cube[0])\n",
        "    start = (0, 0)\n",
        "    goal = (n - 1, m - 1)\n",
        "\n",
        "    # Priority queue for A*, stores tuples of (cost, position, path, number of short walls)\n",
        "    pq = [(0, start, [start], 0)]  # (cost, current position, path, short_wall_count)\n",
        "    visited = set()\n",
        "\n",
        "    while pq:\n",
        "        cost, current, path, short_wall_count = heapq.heappop(pq)\n",
        "\n",
        "        if current == goal:\n",
        "            return path\n",
        "\n",
        "        if current in visited:\n",
        "            continue\n",
        "        visited.add(current)\n",
        "\n",
        "        for neighbor in get_neighbors(current, n, m):\n",
        "            nx, ny = neighbor\n",
        "            if cube[nx][ny] == 1:\n",
        "                continue  # Skip high walls\n",
        "            new_short_wall_count = short_wall_count + (1 if cube[nx][ny] == 2 else 0)\n",
        "            new_cost = len(path) + heuristic(neighbor, goal) + new_short_wall_count\n",
        "\n",
        "            heapq.heappush(pq, (new_cost, neighbor, path + [neighbor], new_short_wall_count))\n",
        "\n",
        "    return -1\n"
      ],
      "metadata": {
        "id": "tRMAwYykjZp_"
      },
      "execution_count": null,
      "outputs": []
    },
    {
      "cell_type": "code",
      "source": [
        "filename = 'cube.txt'\n",
        "cube = read_cube(filename)\n",
        "print(\"A* Path:\", a_star(cube))"
      ],
      "metadata": {
        "id": "fM6mNWqXkphF"
      },
      "execution_count": null,
      "outputs": []
    }
  ]
}