{
 "cells": [
  {
   "cell_type": "code",
   "execution_count": 48,
   "id": "139e3112",
   "metadata": {},
   "outputs": [
    {
     "data": {
      "text/plain": [
       "[1, 2, 3, 4, 5, 6, 7, 8, 9, 10]"
      ]
     },
     "execution_count": 48,
     "metadata": {},
     "output_type": "execute_result"
    }
   ],
   "source": [
    "# 1 \n",
    "def merge(list1, list2):\n",
    "    result = []\n",
    "    i, j = 0, 0\n",
    "\n",
    "    while i < len(list1) and j < len(list2):\n",
    "        if list1[i] <= list2[j]:\n",
    "            result.append(list1[i])\n",
    "            i += 1  # Move pointer in list1\n",
    "        else:\n",
    "            result.append(list2[j])\n",
    "            j += 1  # Move pointer in list2\n",
    "\n",
    "    while i < len(list1):\n",
    "        result.append(list1[i])\n",
    "        i += 1\n",
    "\n",
    "    while j < len(list2):\n",
    "        result.append(list2[j])\n",
    "        j += 1\n",
    "\n",
    "    return result\n",
    "\n",
    "list1 = [1, 3, 5, 7, 9]\n",
    "list2 = [2, 4, 6, 8, 10]\n",
    "    \n",
    "merge(list1,list2)"
   ]
  },
  {
   "cell_type": "code",
   "execution_count": 49,
   "id": "4df25820",
   "metadata": {},
   "outputs": [
    {
     "name": "stdout",
     "output_type": "stream",
     "text": [
      "{'Kelly': {'designation': 'Application Developer', 'salary': 8000}, 'Emma': {'designation': 'Application Developer', 'salary': 8000}, 'John': {'designation': 'Application Developer', 'salary': 8000}}\n"
     ]
    }
   ],
   "source": [
    "# 2\n",
    "keys = ['Kelly', 'Emma', 'John']\n",
    "defaults = {\"designation\": 'Application Developer', \"salary\": 8000}\n",
    "dict = {i:defaults for i in keys}\n",
    "\n",
    "print(dict)"
   ]
  },
  {
   "cell_type": "code",
   "execution_count": 50,
   "id": "0ab6353a",
   "metadata": {},
   "outputs": [
    {
     "name": "stdout",
     "output_type": "stream",
     "text": [
      "{'age': 25, 'city': 'New york'}\n"
     ]
    }
   ],
   "source": [
    "# 3\n",
    "sampleDict = {\n",
    "\"name\": \"Kelly\",\n",
    "\"age\":25,\n",
    "\"salary\": 8000,\n",
    "\"city\": \"New york\"\n",
    "}\n",
    "\n",
    "keysToRemove = [\"name\", \"salary\"]\n",
    "\n",
    "final_dict = {key: value for key, value in sampleDict.items() if key not in keysToRemove}\n",
    "print(final_dict)"
   ]
  },
  {
   "cell_type": "code",
   "execution_count": 56,
   "id": "715a74c7",
   "metadata": {},
   "outputs": [
    {
     "name": "stdout",
     "output_type": "stream",
     "text": [
      "Set X: {'b', 'd', 'e', 'a', 'c'}\n",
      "Set Y: {1, 2, 3, 4, 5}\n",
      "Elements in X or Y, but not both: {1, 2, 3, 4, 5, 'b', 'd', 'e', 'a', 'c'}\n"
     ]
    }
   ],
   "source": [
    "# 4\n",
    "def func(set_x, set_y):\n",
    "    result = set_x ^ set_y\n",
    "    return result\n",
    "\n",
    "set_x = {'a','b','c','d','e'}\n",
    "print(\"Set X:\", set_x)\n",
    "set_y = {1, 2, 3, 4, 5}\n",
    "print(\"Set Y:\", set_y)\n",
    "\n",
    "result_set = func(set_x, set_y)\n",
    "print(\"Elements in X or Y, but not both:\", result_set)"
   ]
  },
  {
   "cell_type": "code",
   "execution_count": 52,
   "id": "00afd873",
   "metadata": {},
   "outputs": [
    {
     "name": "stdout",
     "output_type": "stream",
     "text": [
      "Result: 2.0\n"
     ]
    }
   ],
   "source": [
    "# 5\n",
    "p=10\n",
    "q=5\n",
    "\n",
    "try:\n",
    "    x = p / q\n",
    "    print(\"Result:\", x)\n",
    "except ZeroDivisionError as err:\n",
    "    print(f\"Error: {err}\")\n",
    "except TypeError as err:\n",
    "    print(f\"Error: {err}\")\n",
    "except Exception as err:\n",
    "    print(f\"An unexpected error occurred: {err}\")"
   ]
  }
 ],
 "metadata": {
  "kernelspec": {
   "display_name": "Python 3",
   "language": "python",
   "name": "python3"
  },
  "language_info": {
   "codemirror_mode": {
    "name": "ipython",
    "version": 3
   },
   "file_extension": ".py",
   "mimetype": "text/x-python",
   "name": "python",
   "nbconvert_exporter": "python",
   "pygments_lexer": "ipython3",
   "version": "3.8.8"
  }
 },
 "nbformat": 4,
 "nbformat_minor": 5
}
