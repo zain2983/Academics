{
  "nbformat": 4,
  "nbformat_minor": 0,
  "metadata": {
    "colab": {
      "provenance": []
    },
    "kernelspec": {
      "name": "python3",
      "display_name": "Python 3"
    },
    "language_info": {
      "name": "python"
    }
  },
  "cells": [
    {
      "cell_type": "markdown",
      "source": [
        "# Installaiing Libraries"
      ],
      "metadata": {
        "id": "9ZbveEecrz53"
      }
    },
    {
      "cell_type": "code",
      "source": [
        "pip install -q pandas openpyxl"
      ],
      "metadata": {
        "id": "a9Z7Rgg2k9AZ"
      },
      "execution_count": 103,
      "outputs": []
    },
    {
      "cell_type": "code",
      "source": [
        "import numpy as np\n",
        "import pandas as pd\n",
        "import matplotlib.pyplot as plt\n",
        "import pandas as pd\n",
        "import numpy as np\n",
        "from sklearn.model_selection import train_test_split\n",
        "from sklearn.linear_model import LinearRegression\n",
        "from sklearn.metrics import mean_absolute_error, mean_squared_error\n",
        "import matplotlib.pyplot as plt"
      ],
      "metadata": {
        "id": "5tiKur5hz66H"
      },
      "execution_count": 104,
      "outputs": []
    },
    {
      "cell_type": "markdown",
      "source": [
        "# DATA First look"
      ],
      "metadata": {
        "id": "-NCyQSYXyqt2"
      }
    },
    {
      "cell_type": "code",
      "execution_count": 87,
      "metadata": {
        "colab": {
          "base_uri": "https://localhost:8080/"
        },
        "id": "kKvwsQx4hacR",
        "outputId": "970a8208-88dc-4835-8db6-9383adabfedf"
      },
      "outputs": [
        {
          "output_type": "stream",
          "name": "stdout",
          "text": [
            "       SNo     Name Symbol                Date          High           Low  \\\n",
            "0        1  Bitcoin    BTC 2013-04-29 23:59:59    147.488007    134.000000   \n",
            "1        2  Bitcoin    BTC 2013-04-30 23:59:59    146.929993    134.050003   \n",
            "2        3  Bitcoin    BTC 2013-05-01 23:59:59    139.889999    107.720001   \n",
            "3        4  Bitcoin    BTC 2013-05-02 23:59:59    125.599998     92.281898   \n",
            "4        5  Bitcoin    BTC 2013-05-03 23:59:59    108.127998     79.099998   \n",
            "...    ...      ...    ...                 ...           ...           ...   \n",
            "2986  2987  Bitcoin    BTC 2021-07-02 23:59:59  33939.588699  32770.680780   \n",
            "2987  2988  Bitcoin    BTC 2021-07-03 23:59:59  34909.259899  33402.696536   \n",
            "2988  2989  Bitcoin    BTC 2021-07-04 23:59:59  35937.567147  34396.477458   \n",
            "2989  2990  Bitcoin    BTC 2021-07-05 23:59:59  35284.344430  33213.661034   \n",
            "2990  2991  Bitcoin    BTC 2021-07-06 23:59:59  35038.536363  33599.916169   \n",
            "\n",
            "              Open         Close        Volume     Marketcap  \n",
            "0       134.444000    144.539993  0.000000e+00  1.603769e+09  \n",
            "1       144.000000    139.000000  0.000000e+00  1.542813e+09  \n",
            "2       139.000000    116.989998  0.000000e+00  1.298955e+09  \n",
            "3       116.379997    105.209999  0.000000e+00  1.168517e+09  \n",
            "4       106.250000     97.750000  0.000000e+00  1.085995e+09  \n",
            "...            ...           ...           ...           ...  \n",
            "2986  33549.600177  33897.048590  3.872897e+10  6.354508e+11  \n",
            "2987  33854.421362  34668.548402  2.438396e+10  6.499397e+11  \n",
            "2988  34665.564866  35287.779766  2.492431e+10  6.615748e+11  \n",
            "2989  35284.344430  33746.002456  2.672155e+10  6.326962e+11  \n",
            "2990  33723.509655  34235.193451  2.650126e+10  6.418992e+11  \n",
            "\n",
            "[2991 rows x 10 columns]\n"
          ]
        }
      ],
      "source": [
        "import pandas as pd\n",
        "df = pd.read_excel(\"10_coin_Bitcoin.xlsx\")\n",
        "print(df)"
      ]
    },
    {
      "cell_type": "code",
      "source": [
        "print(df.columns)\n",
        "print(df.shape)"
      ],
      "metadata": {
        "colab": {
          "base_uri": "https://localhost:8080/"
        },
        "id": "JJNv_cHxlQ9d",
        "outputId": "d0e84ca8-732f-447b-c7bf-9840d8bf319c"
      },
      "execution_count": 88,
      "outputs": [
        {
          "output_type": "stream",
          "name": "stdout",
          "text": [
            "Index(['SNo', 'Name', 'Symbol', 'Date', 'High', 'Low', 'Open', 'Close',\n",
            "       'Volume', 'Marketcap'],\n",
            "      dtype='object')\n",
            "(2991, 10)\n"
          ]
        }
      ]
    },
    {
      "cell_type": "code",
      "source": [
        "print(df.head())"
      ],
      "metadata": {
        "colab": {
          "base_uri": "https://localhost:8080/"
        },
        "id": "uIA2OAIOldb0",
        "outputId": "b9cefb38-61fd-4b32-ec39-08c7a3e62edd"
      },
      "execution_count": 89,
      "outputs": [
        {
          "output_type": "stream",
          "name": "stdout",
          "text": [
            "   SNo     Name Symbol                Date        High         Low  \\\n",
            "0    1  Bitcoin    BTC 2013-04-29 23:59:59  147.488007  134.000000   \n",
            "1    2  Bitcoin    BTC 2013-04-30 23:59:59  146.929993  134.050003   \n",
            "2    3  Bitcoin    BTC 2013-05-01 23:59:59  139.889999  107.720001   \n",
            "3    4  Bitcoin    BTC 2013-05-02 23:59:59  125.599998   92.281898   \n",
            "4    5  Bitcoin    BTC 2013-05-03 23:59:59  108.127998   79.099998   \n",
            "\n",
            "         Open       Close  Volume     Marketcap  \n",
            "0  134.444000  144.539993     0.0  1.603769e+09  \n",
            "1  144.000000  139.000000     0.0  1.542813e+09  \n",
            "2  139.000000  116.989998     0.0  1.298955e+09  \n",
            "3  116.379997  105.209999     0.0  1.168517e+09  \n",
            "4  106.250000   97.750000     0.0  1.085995e+09  \n"
          ]
        }
      ]
    },
    {
      "cell_type": "markdown",
      "source": [
        "# Linear Regression Using SkLearn"
      ],
      "metadata": {
        "id": "kgJoMC20p-pi"
      }
    },
    {
      "cell_type": "code",
      "source": [
        "print(df[\"Name\"].unique()) # This tells us that the data is of only Bitcoin"
      ],
      "metadata": {
        "colab": {
          "base_uri": "https://localhost:8080/"
        },
        "id": "rpfoujIjpxNY",
        "outputId": "a04b9bc4-c4f3-40d0-8971-60198fc3418b"
      },
      "execution_count": 83,
      "outputs": [
        {
          "output_type": "stream",
          "name": "stdout",
          "text": [
            "['Bitcoin']\n"
          ]
        }
      ]
    },
    {
      "cell_type": "code",
      "source": [
        "data1 = df\n",
        "data1 = df.drop(columns=['Name','Symbol','SNo'])"
      ],
      "metadata": {
        "id": "u8GZ7OJEp62I"
      },
      "execution_count": 91,
      "outputs": []
    },
    {
      "cell_type": "code",
      "source": [
        "data1['target'] = (data1['Low'] + data['High']) / 2\n",
        "data1 = data1.drop(columns=['Open', 'Close'])"
      ],
      "metadata": {
        "id": "YJW4gdfTqDcP"
      },
      "execution_count": 92,
      "outputs": []
    },
    {
      "cell_type": "code",
      "source": [
        "data1['Date'] = pd.to_datetime(data1['Date'])\n",
        "data1['Date'] = data1['Date'].astype(np.int64) // 10**9  # Convert to seconds since epoch"
      ],
      "metadata": {
        "id": "Szk7DXvVqGFR"
      },
      "execution_count": 93,
      "outputs": []
    },
    {
      "cell_type": "code",
      "source": [
        "X = data1.drop(columns=['target'])\n",
        "y = data1['target']"
      ],
      "metadata": {
        "id": "1gSjAMpiqJYs"
      },
      "execution_count": 94,
      "outputs": []
    },
    {
      "cell_type": "code",
      "source": [
        "# Split data into training and testing sets (70-30 split)\n",
        "X_train, X_test, y_train, y_test = train_test_split(X, y, test_size=0.3, random_state=42)"
      ],
      "metadata": {
        "id": "5yu7VltXqLgt"
      },
      "execution_count": 95,
      "outputs": []
    },
    {
      "cell_type": "code",
      "source": [
        "# Actual mode training\n",
        "model1 = LinearRegression()\n",
        "model1.fit(X_train, y_train)"
      ],
      "metadata": {
        "colab": {
          "base_uri": "https://localhost:8080/",
          "height": 80
        },
        "id": "c7QJZs6pqPkN",
        "outputId": "4772b391-aa00-4edf-e6f8-261a1411f363"
      },
      "execution_count": 96,
      "outputs": [
        {
          "output_type": "execute_result",
          "data": {
            "text/plain": [
              "LinearRegression()"
            ],
            "text/html": [
              "<style>#sk-container-id-3 {\n",
              "  /* Definition of color scheme common for light and dark mode */\n",
              "  --sklearn-color-text: black;\n",
              "  --sklearn-color-line: gray;\n",
              "  /* Definition of color scheme for unfitted estimators */\n",
              "  --sklearn-color-unfitted-level-0: #fff5e6;\n",
              "  --sklearn-color-unfitted-level-1: #f6e4d2;\n",
              "  --sklearn-color-unfitted-level-2: #ffe0b3;\n",
              "  --sklearn-color-unfitted-level-3: chocolate;\n",
              "  /* Definition of color scheme for fitted estimators */\n",
              "  --sklearn-color-fitted-level-0: #f0f8ff;\n",
              "  --sklearn-color-fitted-level-1: #d4ebff;\n",
              "  --sklearn-color-fitted-level-2: #b3dbfd;\n",
              "  --sklearn-color-fitted-level-3: cornflowerblue;\n",
              "\n",
              "  /* Specific color for light theme */\n",
              "  --sklearn-color-text-on-default-background: var(--sg-text-color, var(--theme-code-foreground, var(--jp-content-font-color1, black)));\n",
              "  --sklearn-color-background: var(--sg-background-color, var(--theme-background, var(--jp-layout-color0, white)));\n",
              "  --sklearn-color-border-box: var(--sg-text-color, var(--theme-code-foreground, var(--jp-content-font-color1, black)));\n",
              "  --sklearn-color-icon: #696969;\n",
              "\n",
              "  @media (prefers-color-scheme: dark) {\n",
              "    /* Redefinition of color scheme for dark theme */\n",
              "    --sklearn-color-text-on-default-background: var(--sg-text-color, var(--theme-code-foreground, var(--jp-content-font-color1, white)));\n",
              "    --sklearn-color-background: var(--sg-background-color, var(--theme-background, var(--jp-layout-color0, #111)));\n",
              "    --sklearn-color-border-box: var(--sg-text-color, var(--theme-code-foreground, var(--jp-content-font-color1, white)));\n",
              "    --sklearn-color-icon: #878787;\n",
              "  }\n",
              "}\n",
              "\n",
              "#sk-container-id-3 {\n",
              "  color: var(--sklearn-color-text);\n",
              "}\n",
              "\n",
              "#sk-container-id-3 pre {\n",
              "  padding: 0;\n",
              "}\n",
              "\n",
              "#sk-container-id-3 input.sk-hidden--visually {\n",
              "  border: 0;\n",
              "  clip: rect(1px 1px 1px 1px);\n",
              "  clip: rect(1px, 1px, 1px, 1px);\n",
              "  height: 1px;\n",
              "  margin: -1px;\n",
              "  overflow: hidden;\n",
              "  padding: 0;\n",
              "  position: absolute;\n",
              "  width: 1px;\n",
              "}\n",
              "\n",
              "#sk-container-id-3 div.sk-dashed-wrapped {\n",
              "  border: 1px dashed var(--sklearn-color-line);\n",
              "  margin: 0 0.4em 0.5em 0.4em;\n",
              "  box-sizing: border-box;\n",
              "  padding-bottom: 0.4em;\n",
              "  background-color: var(--sklearn-color-background);\n",
              "}\n",
              "\n",
              "#sk-container-id-3 div.sk-container {\n",
              "  /* jupyter's `normalize.less` sets `[hidden] { display: none; }`\n",
              "     but bootstrap.min.css set `[hidden] { display: none !important; }`\n",
              "     so we also need the `!important` here to be able to override the\n",
              "     default hidden behavior on the sphinx rendered scikit-learn.org.\n",
              "     See: https://github.com/scikit-learn/scikit-learn/issues/21755 */\n",
              "  display: inline-block !important;\n",
              "  position: relative;\n",
              "}\n",
              "\n",
              "#sk-container-id-3 div.sk-text-repr-fallback {\n",
              "  display: none;\n",
              "}\n",
              "\n",
              "div.sk-parallel-item,\n",
              "div.sk-serial,\n",
              "div.sk-item {\n",
              "  /* draw centered vertical line to link estimators */\n",
              "  background-image: linear-gradient(var(--sklearn-color-text-on-default-background), var(--sklearn-color-text-on-default-background));\n",
              "  background-size: 2px 100%;\n",
              "  background-repeat: no-repeat;\n",
              "  background-position: center center;\n",
              "}\n",
              "\n",
              "/* Parallel-specific style estimator block */\n",
              "\n",
              "#sk-container-id-3 div.sk-parallel-item::after {\n",
              "  content: \"\";\n",
              "  width: 100%;\n",
              "  border-bottom: 2px solid var(--sklearn-color-text-on-default-background);\n",
              "  flex-grow: 1;\n",
              "}\n",
              "\n",
              "#sk-container-id-3 div.sk-parallel {\n",
              "  display: flex;\n",
              "  align-items: stretch;\n",
              "  justify-content: center;\n",
              "  background-color: var(--sklearn-color-background);\n",
              "  position: relative;\n",
              "}\n",
              "\n",
              "#sk-container-id-3 div.sk-parallel-item {\n",
              "  display: flex;\n",
              "  flex-direction: column;\n",
              "}\n",
              "\n",
              "#sk-container-id-3 div.sk-parallel-item:first-child::after {\n",
              "  align-self: flex-end;\n",
              "  width: 50%;\n",
              "}\n",
              "\n",
              "#sk-container-id-3 div.sk-parallel-item:last-child::after {\n",
              "  align-self: flex-start;\n",
              "  width: 50%;\n",
              "}\n",
              "\n",
              "#sk-container-id-3 div.sk-parallel-item:only-child::after {\n",
              "  width: 0;\n",
              "}\n",
              "\n",
              "/* Serial-specific style estimator block */\n",
              "\n",
              "#sk-container-id-3 div.sk-serial {\n",
              "  display: flex;\n",
              "  flex-direction: column;\n",
              "  align-items: center;\n",
              "  background-color: var(--sklearn-color-background);\n",
              "  padding-right: 1em;\n",
              "  padding-left: 1em;\n",
              "}\n",
              "\n",
              "\n",
              "/* Toggleable style: style used for estimator/Pipeline/ColumnTransformer box that is\n",
              "clickable and can be expanded/collapsed.\n",
              "- Pipeline and ColumnTransformer use this feature and define the default style\n",
              "- Estimators will overwrite some part of the style using the `sk-estimator` class\n",
              "*/\n",
              "\n",
              "/* Pipeline and ColumnTransformer style (default) */\n",
              "\n",
              "#sk-container-id-3 div.sk-toggleable {\n",
              "  /* Default theme specific background. It is overwritten whether we have a\n",
              "  specific estimator or a Pipeline/ColumnTransformer */\n",
              "  background-color: var(--sklearn-color-background);\n",
              "}\n",
              "\n",
              "/* Toggleable label */\n",
              "#sk-container-id-3 label.sk-toggleable__label {\n",
              "  cursor: pointer;\n",
              "  display: block;\n",
              "  width: 100%;\n",
              "  margin-bottom: 0;\n",
              "  padding: 0.5em;\n",
              "  box-sizing: border-box;\n",
              "  text-align: center;\n",
              "}\n",
              "\n",
              "#sk-container-id-3 label.sk-toggleable__label-arrow:before {\n",
              "  /* Arrow on the left of the label */\n",
              "  content: \"▸\";\n",
              "  float: left;\n",
              "  margin-right: 0.25em;\n",
              "  color: var(--sklearn-color-icon);\n",
              "}\n",
              "\n",
              "#sk-container-id-3 label.sk-toggleable__label-arrow:hover:before {\n",
              "  color: var(--sklearn-color-text);\n",
              "}\n",
              "\n",
              "/* Toggleable content - dropdown */\n",
              "\n",
              "#sk-container-id-3 div.sk-toggleable__content {\n",
              "  max-height: 0;\n",
              "  max-width: 0;\n",
              "  overflow: hidden;\n",
              "  text-align: left;\n",
              "  /* unfitted */\n",
              "  background-color: var(--sklearn-color-unfitted-level-0);\n",
              "}\n",
              "\n",
              "#sk-container-id-3 div.sk-toggleable__content.fitted {\n",
              "  /* fitted */\n",
              "  background-color: var(--sklearn-color-fitted-level-0);\n",
              "}\n",
              "\n",
              "#sk-container-id-3 div.sk-toggleable__content pre {\n",
              "  margin: 0.2em;\n",
              "  border-radius: 0.25em;\n",
              "  color: var(--sklearn-color-text);\n",
              "  /* unfitted */\n",
              "  background-color: var(--sklearn-color-unfitted-level-0);\n",
              "}\n",
              "\n",
              "#sk-container-id-3 div.sk-toggleable__content.fitted pre {\n",
              "  /* unfitted */\n",
              "  background-color: var(--sklearn-color-fitted-level-0);\n",
              "}\n",
              "\n",
              "#sk-container-id-3 input.sk-toggleable__control:checked~div.sk-toggleable__content {\n",
              "  /* Expand drop-down */\n",
              "  max-height: 200px;\n",
              "  max-width: 100%;\n",
              "  overflow: auto;\n",
              "}\n",
              "\n",
              "#sk-container-id-3 input.sk-toggleable__control:checked~label.sk-toggleable__label-arrow:before {\n",
              "  content: \"▾\";\n",
              "}\n",
              "\n",
              "/* Pipeline/ColumnTransformer-specific style */\n",
              "\n",
              "#sk-container-id-3 div.sk-label input.sk-toggleable__control:checked~label.sk-toggleable__label {\n",
              "  color: var(--sklearn-color-text);\n",
              "  background-color: var(--sklearn-color-unfitted-level-2);\n",
              "}\n",
              "\n",
              "#sk-container-id-3 div.sk-label.fitted input.sk-toggleable__control:checked~label.sk-toggleable__label {\n",
              "  background-color: var(--sklearn-color-fitted-level-2);\n",
              "}\n",
              "\n",
              "/* Estimator-specific style */\n",
              "\n",
              "/* Colorize estimator box */\n",
              "#sk-container-id-3 div.sk-estimator input.sk-toggleable__control:checked~label.sk-toggleable__label {\n",
              "  /* unfitted */\n",
              "  background-color: var(--sklearn-color-unfitted-level-2);\n",
              "}\n",
              "\n",
              "#sk-container-id-3 div.sk-estimator.fitted input.sk-toggleable__control:checked~label.sk-toggleable__label {\n",
              "  /* fitted */\n",
              "  background-color: var(--sklearn-color-fitted-level-2);\n",
              "}\n",
              "\n",
              "#sk-container-id-3 div.sk-label label.sk-toggleable__label,\n",
              "#sk-container-id-3 div.sk-label label {\n",
              "  /* The background is the default theme color */\n",
              "  color: var(--sklearn-color-text-on-default-background);\n",
              "}\n",
              "\n",
              "/* On hover, darken the color of the background */\n",
              "#sk-container-id-3 div.sk-label:hover label.sk-toggleable__label {\n",
              "  color: var(--sklearn-color-text);\n",
              "  background-color: var(--sklearn-color-unfitted-level-2);\n",
              "}\n",
              "\n",
              "/* Label box, darken color on hover, fitted */\n",
              "#sk-container-id-3 div.sk-label.fitted:hover label.sk-toggleable__label.fitted {\n",
              "  color: var(--sklearn-color-text);\n",
              "  background-color: var(--sklearn-color-fitted-level-2);\n",
              "}\n",
              "\n",
              "/* Estimator label */\n",
              "\n",
              "#sk-container-id-3 div.sk-label label {\n",
              "  font-family: monospace;\n",
              "  font-weight: bold;\n",
              "  display: inline-block;\n",
              "  line-height: 1.2em;\n",
              "}\n",
              "\n",
              "#sk-container-id-3 div.sk-label-container {\n",
              "  text-align: center;\n",
              "}\n",
              "\n",
              "/* Estimator-specific */\n",
              "#sk-container-id-3 div.sk-estimator {\n",
              "  font-family: monospace;\n",
              "  border: 1px dotted var(--sklearn-color-border-box);\n",
              "  border-radius: 0.25em;\n",
              "  box-sizing: border-box;\n",
              "  margin-bottom: 0.5em;\n",
              "  /* unfitted */\n",
              "  background-color: var(--sklearn-color-unfitted-level-0);\n",
              "}\n",
              "\n",
              "#sk-container-id-3 div.sk-estimator.fitted {\n",
              "  /* fitted */\n",
              "  background-color: var(--sklearn-color-fitted-level-0);\n",
              "}\n",
              "\n",
              "/* on hover */\n",
              "#sk-container-id-3 div.sk-estimator:hover {\n",
              "  /* unfitted */\n",
              "  background-color: var(--sklearn-color-unfitted-level-2);\n",
              "}\n",
              "\n",
              "#sk-container-id-3 div.sk-estimator.fitted:hover {\n",
              "  /* fitted */\n",
              "  background-color: var(--sklearn-color-fitted-level-2);\n",
              "}\n",
              "\n",
              "/* Specification for estimator info (e.g. \"i\" and \"?\") */\n",
              "\n",
              "/* Common style for \"i\" and \"?\" */\n",
              "\n",
              ".sk-estimator-doc-link,\n",
              "a:link.sk-estimator-doc-link,\n",
              "a:visited.sk-estimator-doc-link {\n",
              "  float: right;\n",
              "  font-size: smaller;\n",
              "  line-height: 1em;\n",
              "  font-family: monospace;\n",
              "  background-color: var(--sklearn-color-background);\n",
              "  border-radius: 1em;\n",
              "  height: 1em;\n",
              "  width: 1em;\n",
              "  text-decoration: none !important;\n",
              "  margin-left: 1ex;\n",
              "  /* unfitted */\n",
              "  border: var(--sklearn-color-unfitted-level-1) 1pt solid;\n",
              "  color: var(--sklearn-color-unfitted-level-1);\n",
              "}\n",
              "\n",
              ".sk-estimator-doc-link.fitted,\n",
              "a:link.sk-estimator-doc-link.fitted,\n",
              "a:visited.sk-estimator-doc-link.fitted {\n",
              "  /* fitted */\n",
              "  border: var(--sklearn-color-fitted-level-1) 1pt solid;\n",
              "  color: var(--sklearn-color-fitted-level-1);\n",
              "}\n",
              "\n",
              "/* On hover */\n",
              "div.sk-estimator:hover .sk-estimator-doc-link:hover,\n",
              ".sk-estimator-doc-link:hover,\n",
              "div.sk-label-container:hover .sk-estimator-doc-link:hover,\n",
              ".sk-estimator-doc-link:hover {\n",
              "  /* unfitted */\n",
              "  background-color: var(--sklearn-color-unfitted-level-3);\n",
              "  color: var(--sklearn-color-background);\n",
              "  text-decoration: none;\n",
              "}\n",
              "\n",
              "div.sk-estimator.fitted:hover .sk-estimator-doc-link.fitted:hover,\n",
              ".sk-estimator-doc-link.fitted:hover,\n",
              "div.sk-label-container:hover .sk-estimator-doc-link.fitted:hover,\n",
              ".sk-estimator-doc-link.fitted:hover {\n",
              "  /* fitted */\n",
              "  background-color: var(--sklearn-color-fitted-level-3);\n",
              "  color: var(--sklearn-color-background);\n",
              "  text-decoration: none;\n",
              "}\n",
              "\n",
              "/* Span, style for the box shown on hovering the info icon */\n",
              ".sk-estimator-doc-link span {\n",
              "  display: none;\n",
              "  z-index: 9999;\n",
              "  position: relative;\n",
              "  font-weight: normal;\n",
              "  right: .2ex;\n",
              "  padding: .5ex;\n",
              "  margin: .5ex;\n",
              "  width: min-content;\n",
              "  min-width: 20ex;\n",
              "  max-width: 50ex;\n",
              "  color: var(--sklearn-color-text);\n",
              "  box-shadow: 2pt 2pt 4pt #999;\n",
              "  /* unfitted */\n",
              "  background: var(--sklearn-color-unfitted-level-0);\n",
              "  border: .5pt solid var(--sklearn-color-unfitted-level-3);\n",
              "}\n",
              "\n",
              ".sk-estimator-doc-link.fitted span {\n",
              "  /* fitted */\n",
              "  background: var(--sklearn-color-fitted-level-0);\n",
              "  border: var(--sklearn-color-fitted-level-3);\n",
              "}\n",
              "\n",
              ".sk-estimator-doc-link:hover span {\n",
              "  display: block;\n",
              "}\n",
              "\n",
              "/* \"?\"-specific style due to the `<a>` HTML tag */\n",
              "\n",
              "#sk-container-id-3 a.estimator_doc_link {\n",
              "  float: right;\n",
              "  font-size: 1rem;\n",
              "  line-height: 1em;\n",
              "  font-family: monospace;\n",
              "  background-color: var(--sklearn-color-background);\n",
              "  border-radius: 1rem;\n",
              "  height: 1rem;\n",
              "  width: 1rem;\n",
              "  text-decoration: none;\n",
              "  /* unfitted */\n",
              "  color: var(--sklearn-color-unfitted-level-1);\n",
              "  border: var(--sklearn-color-unfitted-level-1) 1pt solid;\n",
              "}\n",
              "\n",
              "#sk-container-id-3 a.estimator_doc_link.fitted {\n",
              "  /* fitted */\n",
              "  border: var(--sklearn-color-fitted-level-1) 1pt solid;\n",
              "  color: var(--sklearn-color-fitted-level-1);\n",
              "}\n",
              "\n",
              "/* On hover */\n",
              "#sk-container-id-3 a.estimator_doc_link:hover {\n",
              "  /* unfitted */\n",
              "  background-color: var(--sklearn-color-unfitted-level-3);\n",
              "  color: var(--sklearn-color-background);\n",
              "  text-decoration: none;\n",
              "}\n",
              "\n",
              "#sk-container-id-3 a.estimator_doc_link.fitted:hover {\n",
              "  /* fitted */\n",
              "  background-color: var(--sklearn-color-fitted-level-3);\n",
              "}\n",
              "</style><div id=\"sk-container-id-3\" class=\"sk-top-container\"><div class=\"sk-text-repr-fallback\"><pre>LinearRegression()</pre><b>In a Jupyter environment, please rerun this cell to show the HTML representation or trust the notebook. <br />On GitHub, the HTML representation is unable to render, please try loading this page with nbviewer.org.</b></div><div class=\"sk-container\" hidden><div class=\"sk-item\"><div class=\"sk-estimator fitted sk-toggleable\"><input class=\"sk-toggleable__control sk-hidden--visually\" id=\"sk-estimator-id-3\" type=\"checkbox\" checked><label for=\"sk-estimator-id-3\" class=\"sk-toggleable__label fitted sk-toggleable__label-arrow fitted\">&nbsp;&nbsp;LinearRegression<a class=\"sk-estimator-doc-link fitted\" rel=\"noreferrer\" target=\"_blank\" href=\"https://scikit-learn.org/1.5/modules/generated/sklearn.linear_model.LinearRegression.html\">?<span>Documentation for LinearRegression</span></a><span class=\"sk-estimator-doc-link fitted\">i<span>Fitted</span></span></label><div class=\"sk-toggleable__content fitted\"><pre>LinearRegression()</pre></div> </div></div></div></div>"
            ]
          },
          "metadata": {},
          "execution_count": 96
        }
      ]
    },
    {
      "cell_type": "code",
      "source": [
        "# Making predictions\n",
        "y_pred_train = model1.predict(X_train)\n",
        "y_pred_test = model1.predict(X_test)"
      ],
      "metadata": {
        "id": "1sVsi-4AqUSJ"
      },
      "execution_count": 97,
      "outputs": []
    },
    {
      "cell_type": "code",
      "source": [
        "# Calculate Errors\n",
        "mae1 = mean_absolute_error(y_test, y_pred_test)\n",
        "mse1 = mean_squared_error(y_test, y_pred_test)\n",
        "\n",
        "print(\"Mean Absolute Error (MAE):\", mae1)\n",
        "print(\"Mean Squared Error (MSE):\", mse1)"
      ],
      "metadata": {
        "colab": {
          "base_uri": "https://localhost:8080/"
        },
        "id": "x3_FZkcwqYcB",
        "outputId": "5e5d13ca-9be5-4ae6-a89d-87ce1945b94d"
      },
      "execution_count": 98,
      "outputs": [
        {
          "output_type": "stream",
          "name": "stdout",
          "text": [
            "Mean Absolute Error (MAE): 676.0546998332445\n",
            "Mean Squared Error (MSE): 514483.26894052105\n"
          ]
        }
      ]
    },
    {
      "cell_type": "code",
      "source": [
        "plt.figure(figsize=(10, 6))\n",
        "plt.scatter(X_train['Date'], y_train, color='blue', label='Actual')\n",
        "# plt.plot(X_train['Date'], y_pred_train, color='red', label='Predicted')\n",
        "plt.xlabel('Date (Timestamp)')\n",
        "plt.ylabel('Bitcoin Value')\n",
        "plt.title('Linear Regression Line on Training Data')\n",
        "plt.legend()\n",
        "plt.show()"
      ],
      "metadata": {
        "colab": {
          "base_uri": "https://localhost:8080/",
          "height": 564
        },
        "id": "lNAVEqJ6qdly",
        "outputId": "2897c5cd-9cbd-48f0-a0bb-733a375bfaa2"
      },
      "execution_count": 99,
      "outputs": [
        {
          "output_type": "display_data",
          "data": {
            "text/plain": [
              "<Figure size 1000x600 with 1 Axes>"
            ],
            "image/png": "[encoded data removed]"
          },
          "metadata": {}
        }
      ]
    },
    {
      "cell_type": "code",
      "source": [
        "# future_dates = pd.date_range(start=pd.to_datetime(X['Date'].max(), unit='s'), periods=61).astype(np.int64) // 10**9\n",
        "# future_features = pd.DataFrame({'Date': future_dates})\n",
        "# print(future_features)\n",
        "# future_pred = model.predict(future_features)\n",
        "\n",
        "\n",
        "\n",
        "\n",
        "# ================================ Please read this ==========================================================\n",
        "# Future values can't be predicted based on only one column sinec the model is trained on multiple columns"
      ],
      "metadata": {
        "id": "HzX2ztaZqfo6"
      },
      "execution_count": 101,
      "outputs": []
    },
    {
      "cell_type": "markdown",
      "source": [
        "# Linear Regression from scratch"
      ],
      "metadata": {
        "id": "oxacqvmGyv_2"
      }
    },
    {
      "cell_type": "code",
      "source": [
        "class LinearRegressionScratch:\n",
        "    def __init__(self):\n",
        "        self.weights = None  # Coefficients\n",
        "        self.bias = None     # Intercept\n",
        "\n",
        "    def fit(self, X, y):\n",
        "        \"\"\"\n",
        "        Train the Linear Regression model using the normal equation.\n",
        "        Args:\n",
        "        - X: Features (2D array or matrix)\n",
        "        - y: Target variable (1D array or vector)\n",
        "        \"\"\"\n",
        "        # Add a column of ones to X for the bias term\n",
        "        X = np.c_[np.ones(X.shape[0]), X]  # Shape (n_samples, n_features + 1)\n",
        "\n",
        "        # Compute weights using the normal equation: (X^T X)^(-1) X^T y\n",
        "        X_transpose = X.T\n",
        "        params = np.linalg.inv(X_transpose @ X) @ X_transpose @ y\n",
        "\n",
        "        # Separate weights and bias\n",
        "        self.bias = params[0]        # First parameter is the bias\n",
        "        self.weights = params[1:]    # Remaining are the feature weights\n",
        "\n",
        "    def predict(self, X):\n",
        "        \"\"\"\n",
        "        Predict target values using the trained model.\n",
        "        Args:\n",
        "        - X: Features (2D array or matrix)\n",
        "        Returns:\n",
        "        - Predicted values (1D array)\n",
        "        \"\"\"\n",
        "        return self.bias + X @ self.weights\n",
        "\n",
        "    def mean_squared_error(self, y_true, y_pred):\n",
        "        \"\"\"\n",
        "        Compute Mean Squared Error (MSE).\n",
        "        Args:\n",
        "        - y_true: True target values\n",
        "        - y_pred: Predicted target values\n",
        "        Returns:\n",
        "        - MSE (float)\n",
        "        \"\"\"\n",
        "        return np.mean((y_true - y_pred) ** 2)\n",
        "\n",
        "    def mean_absolute_error(self, y_true, y_pred):\n",
        "        \"\"\"\n",
        "        Compute Mean Absolute Error (MAE).\n",
        "        Args:\n",
        "        - y_true: True target values\n",
        "        - y_pred: Predicted target values\n",
        "        Returns:\n",
        "        - MAE (float)\n",
        "        \"\"\"\n",
        "        return np.mean(np.abs(y_true - y_pred))\n"
      ],
      "metadata": {
        "id": "xT0wNvwSzyVo"
      },
      "execution_count": 105,
      "outputs": []
    },
    {
      "cell_type": "code",
      "source": [
        "data2 = df"
      ],
      "metadata": {
        "id": "_HcmGBPoz_Xd"
      },
      "execution_count": 106,
      "outputs": []
    },
    {
      "cell_type": "code",
      "source": [
        "data2['Target'] = (data2['High'] + data2['Low']) / 2"
      ],
      "metadata": {
        "id": "WND4Lm0M0ApP"
      },
      "execution_count": 107,
      "outputs": []
    },
    {
      "cell_type": "code",
      "source": [
        "data2 = data2.drop(columns=['Open', 'Close', 'SNo', 'Name', 'Symbol'])"
      ],
      "metadata": {
        "id": "hESu-JqK0CUM"
      },
      "execution_count": 111,
      "outputs": []
    },
    {
      "cell_type": "code",
      "source": [
        "print(data2.columns)"
      ],
      "metadata": {
        "colab": {
          "base_uri": "https://localhost:8080/"
        },
        "id": "bwiN9KWl0Ic7",
        "outputId": "43d1551b-e630-45ba-dbe9-a9cd833cee5f"
      },
      "execution_count": 112,
      "outputs": [
        {
          "output_type": "stream",
          "name": "stdout",
          "text": [
            "Index(['Date', 'High', 'Low', 'Volume', 'Marketcap', 'Target'], dtype='object')\n"
          ]
        }
      ]
    },
    {
      "cell_type": "code",
      "source": [
        "data2['Date'] = pd.to_datetime(data2['Date']).astype(int) // 10**9"
      ],
      "metadata": {
        "id": "dInIfJ5D0ICL"
      },
      "execution_count": 113,
      "outputs": []
    },
    {
      "cell_type": "code",
      "source": [
        "X = data2.drop(columns=['Target']).values\n",
        "y = data2['Target'].values"
      ],
      "metadata": {
        "id": "QLqyO-qZ0FFC"
      },
      "execution_count": 114,
      "outputs": []
    },
    {
      "cell_type": "code",
      "source": [
        "split_index = int(0.7 * len(X))\n",
        "X_train, X_test = X[:split_index], X[split_index:]\n",
        "y_train, y_test = y[:split_index], y[split_index:]"
      ],
      "metadata": {
        "id": "9DTCo83T0N9Y"
      },
      "execution_count": 115,
      "outputs": []
    },
    {
      "cell_type": "code",
      "source": [
        "model2 = LinearRegressionScratch()\n",
        "model2.fit(X_train, y_train)"
      ],
      "metadata": {
        "id": "Z0CCNJwD0P9D"
      },
      "execution_count": 116,
      "outputs": []
    },
    {
      "cell_type": "code",
      "source": [
        "y_pred_train = model2.predict(X_train)\n",
        "y_pred_test = model2.predict(X_test)"
      ],
      "metadata": {
        "id": "TrMUdBiB0Q5q"
      },
      "execution_count": 117,
      "outputs": []
    },
    {
      "cell_type": "code",
      "source": [
        "mse2 = model2.mean_squared_error(y_test, y_pred_test)\n",
        "mae2 = model2.mean_absolute_error(y_test, y_pred_test)"
      ],
      "metadata": {
        "id": "ly1R5CoX0R8e"
      },
      "execution_count": 126,
      "outputs": []
    },
    {
      "cell_type": "code",
      "source": [
        "print(f\"Mean Squared Error  : {mse2}\")\n",
        "print(f\"Mean Absolute Error : {mae2}\")"
      ],
      "metadata": {
        "colab": {
          "base_uri": "https://localhost:8080/"
        },
        "id": "gtHQ0Fgl0TFd",
        "outputId": "2f6b685a-eda7-4635-cc19-4f79b993df31"
      },
      "execution_count": 127,
      "outputs": [
        {
          "output_type": "stream",
          "name": "stdout",
          "text": [
            "Mean Squared Error  : 3.505062963893135e-17\n",
            "Mean Absolute Error : 3.3186337459321136e-09\n"
          ]
        }
      ]
    },
    {
      "cell_type": "code",
      "source": [
        "plt.scatter(X_test[:, 0], y_test, color=\"blue\", label=\"Actual\")\n",
        "plt.xlabel(\"Date (Numerical)\")\n",
        "plt.ylabel(\"Target (Avg of High and Low)\")\n",
        "plt.legend()\n",
        "plt.title(\"Linear Regression - Predictions\")\n",
        "plt.show()"
      ],
      "metadata": {
        "colab": {
          "base_uri": "https://localhost:8080/",
          "height": 472
        },
        "id": "i1gP0F1S0Xt7",
        "outputId": "818d9a9c-80f9-4020-f324-0be3adb7f28f"
      },
      "execution_count": 124,
      "outputs": [
        {
          "output_type": "display_data",
          "data": {
            "text/plain": [
              "<Figure size 640x480 with 1 Axes>"
            ],
            "image/png": "[encoded data removed]"
          },
          "metadata": {}
        }
      ]
    },
    {
      "cell_type": "markdown",
      "source": [
        "# Comparison of MAE and MSE"
      ],
      "metadata": {
        "id": "1p8fovfH0fSB"
      }
    },
    {
      "cell_type": "code",
      "source": [
        "print('='*40)\n",
        "print(\"Errors for Model using Sklearn\")\n",
        "print(\"Mean Absolute Error (MAE):\", mae1)\n",
        "print(\"Mean Squared Error (MSE):\", mse1)\n",
        "print('='*40)\n",
        "print(\"Errors for Model built from scratch\")\n",
        "print(f\"Mean Squared Error  : {mse2}\")\n",
        "print(f\"Mean Absolute Error : {mae2}\")\n",
        "print('='*40)"
      ],
      "metadata": {
        "colab": {
          "base_uri": "https://localhost:8080/"
        },
        "id": "4EnnuITy0erk",
        "outputId": "cbcd9bd5-a91c-4aa7-97bb-4101c2a5691a"
      },
      "execution_count": 130,
      "outputs": [
        {
          "output_type": "stream",
          "name": "stdout",
          "text": [
            "========================================\n",
            "Errors for Model using Sklearn\n",
            "Mean Absolute Error (MAE): 5.011871521403747e-06\n",
            "Mean Squared Error (MSE): 9.13370840626643e-11\n",
            "========================================\n",
            "Errors for Model built from scratch\n",
            "Mean Squared Error  : 3.505062963893135e-17\n",
            "Mean Absolute Error : 3.3186337459321136e-09\n",
            "========================================\n"
          ]
        }
      ]
    }
  ]
}