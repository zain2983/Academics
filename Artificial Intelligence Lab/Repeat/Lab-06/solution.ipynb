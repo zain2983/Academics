{
  "nbformat": 4,
  "nbformat_minor": 0,
  "metadata": {
    "colab": {
      "provenance": []
    },
    "kernelspec": {
      "name": "python3",
      "display_name": "Python 3"
    },
    "language_info": {
      "name": "python"
    }
  },
  "cells": [
    {
      "cell_type": "code",
      "execution_count": 4,
      "metadata": {
        "colab": {
          "base_uri": "https://localhost:8080/"
        },
        "id": "Cb7yr4A8Ym-6",
        "outputId": "c9583bee-25e1-4a98-a06f-b7472edcc5e9"
      },
      "outputs": [
        {
          "output_type": "stream",
          "name": "stdout",
          "text": [
            "Converged after 13 iterations.\n",
            "\u001b[1;32mBest solution:\u001b[0m\n",
            "\u001b[1;36m [3 6 0 5 0 5 3 6] \u001b[0m\n",
            "\u001b[1;32mFitness:\u001b[0m \u001b[1;36m 1.0 \u001b[0m\n"
          ]
        }
      ],
      "source": [
        "import numpy as np\n",
        "\n",
        "# Define parameters\n",
        "board_size = 8\n",
        "pop_size = 50\n",
        "mutation_rate = 0.1\n",
        "max_iter = 1000\n",
        "convergence_threshold = 10\n",
        "\n",
        "# Generate initial population\n",
        "def generate_population(pop_size, board_size):\n",
        "    return np.array([np.random.permutation(board_size) for _ in range(pop_size)])\n",
        "\n",
        "# Fitness function\n",
        "def fitness(chromosome):\n",
        "    # Calculate the number of attacking pairs\n",
        "    attacks = 0\n",
        "    for i in range(len(chromosome)):\n",
        "        for j in range(i + 1, len(chromosome)):\n",
        "            if abs(chromosome[i] - chromosome[j]) == j - i:  # Check diagonal attacks\n",
        "                attacks += 1\n",
        "    return 1 / (1 + attacks)  # Higher fitness for fewer attacks\n",
        "\n",
        "# Selection using tournament selection\n",
        "def tournament_selection(population, fitness_scores, tournament_size=3):\n",
        "    selected_indices = []\n",
        "    for _ in range(len(population)):\n",
        "        tournament_indices = np.random.choice(len(population), tournament_size)\n",
        "        best_idx = tournament_indices[np.argmax(fitness_scores[tournament_indices])]\n",
        "        selected_indices.append(best_idx)\n",
        "    return population[selected_indices]\n",
        "\n",
        "# Crossover\n",
        "def crossover(parent1, parent2):\n",
        "    crossover_point = np.random.randint(1, len(parent1) - 1)\n",
        "    child1 = np.concatenate((parent1[:crossover_point], parent2[crossover_point:]))\n",
        "    child2 = np.concatenate((parent2[:crossover_point], parent1[crossover_point:]))\n",
        "    return child1, child2\n",
        "\n",
        "# Mutation\n",
        "def mutate(chromosome):\n",
        "    if np.random.rand() < mutation_rate:\n",
        "        swap_indices = np.random.choice(len(chromosome), 2, replace=False)\n",
        "        chromosome[swap_indices[0]], chromosome[swap_indices[1]] = chromosome[swap_indices[1]], chromosome[swap_indices[0]]\n",
        "    return chromosome\n",
        "\n",
        "# Main genetic algorithm loop\n",
        "def genetic_algorithm():\n",
        "    population = generate_population(pop_size, board_size)\n",
        "    best_fitness = -np.inf\n",
        "    consecutive_no_improvement = 0\n",
        "    best_solution = None\n",
        "\n",
        "    for iteration in range(max_iter):\n",
        "        # Calculate fitness for each chromosome\n",
        "        fitness_scores = np.array([fitness(chromosome) for chromosome in population])\n",
        "\n",
        "        # Track the best solution\n",
        "        current_best_fitness = np.max(fitness_scores)\n",
        "        best_index = np.argmax(fitness_scores)\n",
        "\n",
        "        if current_best_fitness > best_fitness:\n",
        "            best_fitness = current_best_fitness\n",
        "            best_solution = population[best_index]\n",
        "            consecutive_no_improvement = 0\n",
        "        else:\n",
        "            consecutive_no_improvement += 1\n",
        "\n",
        "        # Check for convergence\n",
        "        if consecutive_no_improvement >= convergence_threshold:\n",
        "            print(f\"Converged after {iteration} iterations.\")\n",
        "            break\n",
        "\n",
        "        # Selection\n",
        "        population = tournament_selection(population, fitness_scores)\n",
        "\n",
        "        # Crossover and Mutation\n",
        "        next_generation = []\n",
        "        for i in range(0, len(population), 2):\n",
        "            parent1, parent2 = population[i], population[(i + 1) % len(population)]\n",
        "            child1, child2 = crossover(parent1, parent2)\n",
        "            next_generation.append(mutate(child1))\n",
        "            next_generation.append(mutate(child2))\n",
        "\n",
        "        population = np.array(next_generation)\n",
        "\n",
        "    return best_solution, best_fitness\n",
        "\n",
        "# Run the genetic algorithm and print the result\n",
        "best_solution, best_fitness = genetic_algorithm()\n",
        "print(\"\\033[1;32mBest solution:\\033[0m\")\n",
        "print(\"\\033[1;36m\", best_solution, \"\\033[0m\")\n",
        "print(\"\\033[1;32mFitness:\\033[0m\", \"\\033[1;36m\", best_fitness, \"\\033[0m\")\n"
      ]
    }
  ]
}