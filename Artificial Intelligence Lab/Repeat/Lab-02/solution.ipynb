{
 "cells": [
  {
   "cell_type": "code",
   "execution_count": 2,
   "metadata": {
    "colab": {
     "base_uri": "https://localhost:8080/"
    },
    "id": "-TOwPqaAPCEv",
    "outputId": "d4ddb903-3b99-4368-a698-7d5a1c70b6b4"
   },
   "outputs": [
    {
     "name": "stdout",
     "output_type": "stream",
     "text": [
      "Number of Chickens : 5\n",
      "Many\n"
     ]
    }
   ],
   "source": [
    "# 6.1 - No of Chickens\n",
    "\n",
    "def chickens(x):\n",
    "  if x<10:\n",
    "    return f\"Number of Chickens : {x}\"\n",
    "  else:\n",
    "    return \"Many\"\n",
    "\n",
    "# Testing\n",
    "print(chickens(5))  # Output: Number of chickens: 5\n",
    "print(chickens(23)) # Output: Number of chickens: many"
   ]
  },
  {
   "cell_type": "code",
   "execution_count": 4,
   "metadata": {
    "colab": {
     "base_uri": "https://localhost:8080/"
    },
    "id": "Z2QLtFjtP2BZ",
    "outputId": "b41fdfc1-8a86-4b86-ceb6-feb385a36de7"
   },
   "outputs": [
    {
     "name": "stdout",
     "output_type": "stream",
     "text": [
      "intnce\n",
      "cat\n",
      "\n"
     ]
    }
   ],
   "source": [
    "# 6.2 - Strings from both ends\n",
    "\n",
    "def new_string(x):\n",
    "  size = len(x)\n",
    "  if(size<3):\n",
    "    return \"\"\n",
    "  elif(size==3):\n",
    "    return x[:3]\n",
    "  else:\n",
    "    return x[:3]+x[-3:]\n",
    "\n",
    "#Testing\n",
    "print(new_string('intelligence'))  # Output: 'intcne'\n",
    "print(new_string('cat'))           # Output: 'cat'\n",
    "print(new_string('hi'))            # Output: ''"
   ]
  },
  {
   "cell_type": "code",
   "execution_count": 12,
   "metadata": {
    "colab": {
     "base_uri": "https://localhost:8080/"
    },
    "id": "95iICXN7QWjL",
    "outputId": "561212a9-03b8-468e-e86b-6cd710319192"
   },
   "outputs": [
    {
     "name": "stdout",
     "output_type": "stream",
     "text": [
      "o@@gle\n",
      "app@e\n",
      "banana\n"
     ]
    }
   ],
   "source": [
    "# 6.3 - Replace occurrences of first character\n",
    "\n",
    "def replace_occurrences(x):\n",
    "  x1 = x[0].lower()\n",
    "  size = len(x)\n",
    "  rep = '@'\n",
    "  replacement = x[1:size].replace(x1,'@')\n",
    "  final = x1 + replacement\n",
    "  return final\n",
    "\n",
    "# Testing\n",
    "print(replace_occurrences('Ooogle'))  # Output: 'O@@gle'\n",
    "print(replace_occurrences('Appae'))   # Output: 'App@e'\n",
    "print(replace_occurrences('banana'))  # Output: 'banana'"
   ]
  },
  {
   "cell_type": "code",
   "execution_count": 13,
   "metadata": {
    "colab": {
     "base_uri": "https://localhost:8080/"
    },
    "id": "mNXfkD-2RQZZ",
    "outputId": "04e211f2-e1c2-4922-cd17-414236e194a4"
   },
   "outputs": [
    {
     "name": "stdout",
     "output_type": "stream",
     "text": [
      "pox mid\n",
      "dig donner\n",
      "wollo herld\n"
     ]
    }
   ],
   "source": [
    "# 6.4 - String jumble\n",
    "\n",
    "def string_jumble(x1,x2):\n",
    "  z1 = x2[:2]+x1[2:]\n",
    "  z2 = x1[:2]+x2[2:]\n",
    "  return z1+\" \"+z2\n",
    "\n",
    "# Testing\n",
    "print(string_jumble('mix', 'pod'))        # Output: 'pox mid'\n",
    "print(string_jumble('dog', 'dinner'))     # Output: 'dig donner'\n",
    "print(string_jumble('hello', 'world'))    # Output: 'wollo herld'\n"
   ]
  },
  {
   "cell_type": "code",
   "execution_count": 16,
   "metadata": {
    "colab": {
     "base_uri": "https://localhost:8080/"
    },
    "id": "U3Z3297jSFCX",
    "outputId": "13a028ba-9bcb-48b1-88a5-0f60fec16296"
   },
   "outputs": [
    {
     "name": "stdout",
     "output_type": "stream",
     "text": [
      "3\n"
     ]
    }
   ],
   "source": [
    "# 6.5 - Matching first and last characters\n",
    "\n",
    "def count_matching_strings(x):\n",
    "  size = len(x)\n",
    "  lst = []\n",
    "  count = 0\n",
    "  for i in range(size):\n",
    "    lst.append(len(x[i]))\n",
    "  for x in x:\n",
    "    if len(x)<2:\n",
    "      print(\" \")\n",
    "    else:\n",
    "      if(x[0]==x[-1]):\n",
    "        count += 1;\n",
    "\n",
    "  return count\n",
    "  # for i in range(0,size):\n",
    "  #   if(x[i[0]] == x[i[lst[i]]]):\n",
    "  #     count +=1\n",
    "  #     print(count)\n",
    "\n",
    "# Testing\n",
    "strings = ['hello', 'world', 'level', 'python', 'pop', 'roar']\n",
    "print(count_matching_strings(strings))  # Output: 3 (since 'level', 'pop', and 'roar' match the criteria)\n"
   ]
  },
  {
   "cell_type": "code",
   "execution_count": 54,
   "metadata": {
    "colab": {
     "base_uri": "https://localhost:8080/"
    },
    "id": "bDSeeFQ-Y5bm",
    "outputId": "a7b7e968-7549-4bdb-c2f0-674f62e6e321"
   },
   "outputs": [
    {
     "name": "stdout",
     "output_type": "stream",
     "text": [
      "[(2, 2), (1, 3), (3, 4, 5), (1, 7)]\n"
     ]
    }
   ],
   "source": [
    "# 6.6 - Sort tuple by last element\n",
    "\n",
    "def sort_tuples(x):\n",
    "  final = sorted(x,key= lambda x:x[-1])\n",
    "  return final\n",
    "\n",
    "# Testing\n",
    "tuples_list = [(1, 7), (1, 3), (3, 4, 5), (2, 2)]\n",
    "print(sort_tuples(tuples_list))  # Output: [(2, 2), (1, 3), (3, 4, 5), (1, 7)]\n"
   ]
  },
  {
   "cell_type": "code",
   "execution_count": 115,
   "metadata": {},
   "outputs": [
    {
     "name": "stdout",
     "output_type": "stream",
     "text": [
      "{'Kelly': {'designation': 'Application Developer', 'salary': 8000}, 'Emma': {'designation': 'Application Developer', 'salary': 8000}, 'John': {'designation': 'Application Developer', 'salary': 8000}}\n"
     ]
    }
   ],
   "source": [
    "# 6.7 - Initialize dictionary\n",
    "\n",
    "keys = ['Kelly', 'Emma', 'John']\n",
    "defaults = {\"designation\": 'Application Developer', \"salary\": 8000}\n",
    "dict = {i:defaults for i in keys}\n",
    "\n",
    "print(dict)"
   ]
  }
 ],
 "metadata": {
  "colab": {
   "provenance": []
  },
  "kernelspec": {
   "display_name": "Python 3",
   "language": "python",
   "name": "python3"
  },
  "language_info": {
   "codemirror_mode": {
    "name": "ipython",
    "version": 3
   },
   "file_extension": ".py",
   "mimetype": "text/x-python",
   "name": "python",
   "nbconvert_exporter": "python",
   "pygments_lexer": "ipython3",
   "version": "3.8.8"
  }
 },
 "nbformat": 4,
 "nbformat_minor": 1
}
