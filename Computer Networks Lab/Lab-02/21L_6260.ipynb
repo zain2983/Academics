{
  "cells": [
    {
      "cell_type": "code",
      "execution_count": null,
      "metadata": {
        "id": "T-zRD5CwksD4",
        "outputId": "cd3bca22-d658-4ca1-c332-d572f996df2b"
      },
      "outputs": [
        {
          "name": "stdout",
          "output_type": "stream",
          "text": [
            "['o', 'l', 'l', 'e', 'h']\n",
            "['h', 'a', 'n', 'n', 'a', 'H']\n"
          ]
        }
      ],
      "source": [
        "def reverse_string(s):\n",
        "    left, right = 0, len(s) - 1\n",
        "    while left < right:\n",
        "        # Swap characters\n",
        "        s[left], s[right] = s[right], s[left]\n",
        "        # Move pointers\n",
        "        left += 1\n",
        "        right -= 1\n",
        "\n",
        "s1 = [\"h\", \"e\", \"l\", \"l\", \"o\"]\n",
        "reverse_string(s1)\n",
        "print(s1)\n",
        "\n",
        "s2 = [\"H\", \"a\", \"n\", \"n\", \"a\", \"h\"]\n",
        "reverse_string(s2)\n",
        "print(s2)"
      ]
    },
    {
      "cell_type": "code",
      "execution_count": 42,
      "metadata": {
        "id": "B1-4YR9zksEF",
        "outputId": "8e2d5eb9-5802-4b3c-8b79-0978d4bd1eb6",
        "colab": {
          "base_uri": "https://localhost:8080/"
        }
      },
      "outputs": [
        {
          "output_type": "stream",
          "name": "stdout",
          "text": [
            "True\n",
            "False\n",
            "True\n"
          ]
        }
      ],
      "source": [
        "def is_palindrome(s):\n",
        "    x= True\n",
        "    cleaned = ''.join(char.lower() for char in s if char.isalnum())\n",
        "    size = len(cleaned)\n",
        "    mid = size//2\n",
        "    for i in range(mid):\n",
        "      if cleaned[i] == cleaned[size-i-1]:\n",
        "        x = True\n",
        "      else:\n",
        "        x=False\n",
        "        break\n",
        "\n",
        "    if(x):\n",
        "      return x\n",
        "    else:\n",
        "      return x\n",
        "\n",
        "\n",
        "s1 = \"A man, a plan, a canal: Panama\"\n",
        "print(is_palindrome(s1))\n",
        "\n",
        "s2 = \"race a car\"\n",
        "print(is_palindrome(s2))\n",
        "\n",
        "s2 = \"1arra1\"\n",
        "print(is_palindrome(s2))"
      ]
    },
    {
      "cell_type": "code",
      "execution_count": 28,
      "metadata": {
        "id": "HDg69oUyksEH",
        "outputId": "bfee4192-3bfa-4e39-aa83-b4cce6e73045",
        "colab": {
          "base_uri": "https://localhost:8080/"
        }
      },
      "outputs": [
        {
          "output_type": "stream",
          "name": "stdout",
          "text": [
            "2\n",
            "8\n",
            "15\n"
          ]
        }
      ],
      "source": [
        "def sqrt(x):\n",
        "    if x < 2:\n",
        "        return x\n",
        "\n",
        "    left, right = 0, x\n",
        "    while left <= right:\n",
        "        mid = (left + right) // 2\n",
        "        if mid * mid == x:\n",
        "            return mid\n",
        "        elif mid * mid < x:\n",
        "            left = mid + 1\n",
        "        else:\n",
        "            right = mid - 1\n",
        "\n",
        "    return right\n",
        "\n",
        "x1 = 4\n",
        "print(sqrt(x1))\n",
        "\n",
        "x2 = 64\n",
        "print(sqrt(x2))\n",
        "\n",
        "x2 = 225\n",
        "print(sqrt(x2))"
      ]
    }
  ],
  "metadata": {
    "kernelspec": {
      "display_name": "Python 3",
      "language": "python",
      "name": "python3"
    },
    "language_info": {
      "codemirror_mode": {
        "name": "ipython",
        "version": 3
      },
      "file_extension": ".py",
      "mimetype": "text/x-python",
      "name": "python",
      "nbconvert_exporter": "python",
      "pygments_lexer": "ipython3",
      "version": "3.10.12"
    },
    "colab": {
      "provenance": []
    }
  },
  "nbformat": 4,
  "nbformat_minor": 0
}